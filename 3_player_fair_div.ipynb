{
 "cells": [
  {
   "cell_type": "markdown",
   "metadata": {},
   "source": [
    "# 3 player fair division"
   ]
  },
  {
   "cell_type": "markdown",
   "metadata": {},
   "source": [
    "Ce notebook Jupyter a été créé à l'occasion d'un projet pour le cours de CoCoMA à l'université Sorbonne Sciences dans le cadre du M2 du master ANDROIDE.\n",
    "\n",
    "Travail par:\n",
    "* Alexis Devillard\n",
    "* Elias Hanna\n",
    "\n",
    "Rendu le 28 janvier 2019."
   ]
  },
  {
   "cell_type": "markdown",
   "metadata": {},
   "source": [
    "## 1. Description du projet"
   ]
  },
  {
   "cell_type": "markdown",
   "metadata": {},
   "source": [
    "A écrire."
   ]
  },
  {
   "cell_type": "markdown",
   "metadata": {},
   "source": [
    "## 2. Environnement utilisé"
   ]
  },
  {
   "cell_type": "markdown",
   "metadata": {},
   "source": [
    "A écrire."
   ]
  },
  {
   "cell_type": "code",
   "execution_count": 1,
   "metadata": {},
   "outputs": [],
   "source": [
    "from agent import Agent\n",
    "from agent import Allocation\n",
    "from OS import run_OS\n"
   ]
  },
  {
   "cell_type": "code",
   "execution_count": 2,
   "metadata": {},
   "outputs": [
    {
     "name": "stdout",
     "output_type": "stream",
     "text": [
      "Ranks[object] : \n",
      "[3, 6, 9, 4, 1, 8, 5, 2, 7]\n",
      "[1, 6, 8, 9, 3, 7, 5, 4, 2]\n",
      "[7, 5, 1, 3, 8, 9, 6, 4, 2]\n",
      "Objects[rank] : \n",
      "[4, 7, 0, 3, 6, 1, 8, 5, 2]\n",
      "[0, 8, 4, 7, 6, 1, 5, 2, 3]\n",
      "[2, 8, 3, 7, 1, 6, 0, 4, 5]\n"
     ]
    }
   ],
   "source": [
    "nb_objets = 9\n",
    "agent_1 = Agent(nb_objets)\n",
    "agent_2 = Agent(nb_objets)\n",
    "agent_3 = Agent(nb_objets)\n",
    "\n",
    "print(\"Ranks[object] : \")\n",
    "agent_1.show_preferences()\n",
    "agent_2.show_preferences()\n",
    "agent_3.show_preferences()\n",
    "print(\"Objects[rank] : \")\n",
    "agent_1.show_ranked_obj()\n",
    "agent_2.show_ranked_obj()\n",
    "agent_3.show_ranked_obj()"
   ]
  },
  {
   "cell_type": "code",
   "execution_count": 3,
   "metadata": {},
   "outputs": [
    {
     "name": "stdout",
     "output_type": "stream",
     "text": [
      "nb allocation found: 2\n",
      "[[4, 7, 1], [0, 8, 5], [2, 3, 6]]\n",
      "Agents (  0  ,  2 ):  [ 1  ,  6 ]\n",
      "False\n",
      "[18, 17, 17]\n",
      "[[4, 7, 6], [0, 8, 5], [2, 3, 1]]\n",
      "True\n",
      "[19, 17, 18]\n"
     ]
    }
   ],
   "source": [
    "allocation = run_OS([agent_1,agent_2,agent_3], nb_objets)\n",
    "print \"nb allocation found:\" , len(allocation)\n",
    "for alloc in allocation:\n",
    "    alloc.simple_show()\n",
    "    print alloc.pareto_optimal()\n",
    "    print alloc.compute_utility()"
   ]
  },
  {
   "cell_type": "code",
   "execution_count": 4,
   "metadata": {},
   "outputs": [],
   "source": [
    "#allocation.show()"
   ]
  },
  {
   "cell_type": "code",
   "execution_count": null,
   "metadata": {},
   "outputs": [],
   "source": []
  },
  {
   "cell_type": "code",
   "execution_count": null,
   "metadata": {},
   "outputs": [],
   "source": []
  },
  {
   "cell_type": "code",
   "execution_count": null,
   "metadata": {},
   "outputs": [],
   "source": []
  },
  {
   "cell_type": "code",
   "execution_count": null,
   "metadata": {},
   "outputs": [],
   "source": []
  },
  {
   "cell_type": "code",
   "execution_count": null,
   "metadata": {},
   "outputs": [],
   "source": []
  },
  {
   "cell_type": "code",
   "execution_count": null,
   "metadata": {},
   "outputs": [],
   "source": [
    "\n",
    "\n"
   ]
  },
  {
   "cell_type": "code",
   "execution_count": null,
   "metadata": {},
   "outputs": [],
   "source": []
  },
  {
   "cell_type": "code",
   "execution_count": null,
   "metadata": {},
   "outputs": [],
   "source": []
  },
  {
   "cell_type": "code",
   "execution_count": null,
   "metadata": {},
   "outputs": [],
   "source": []
  }
 ],
 "metadata": {
  "anaconda-cloud": {},
  "kernelspec": {
   "display_name": "Python 3",
   "language": "python",
   "name": "python3"
  },
  "language_info": {
   "codemirror_mode": {
    "name": "ipython",
    "version": 2
   },
   "file_extension": ".py",
   "mimetype": "text/x-python",
   "name": "python",
   "nbconvert_exporter": "python",
   "pygments_lexer": "ipython2",
   "version": "2.7.15rc1"
  }
 },
 "nbformat": 4,
 "nbformat_minor": 1
}
