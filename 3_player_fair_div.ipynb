{
 "cells": [
  {
   "cell_type": "markdown",
   "metadata": {},
   "source": [
    "# 3 player fair division"
   ]
  },
  {
   "cell_type": "markdown",
   "metadata": {},
   "source": [
    "Ce notebook Jupyter a été créé à l'occasion d'un projet pour le cours de CoCoMA à l'université Sorbonne Sciences dans le cadre du M2 du master ANDROIDE.\n",
    "\n",
    "Travail par:\n",
    "* Alexis Devillard\n",
    "* Elias Hanna\n",
    "\n",
    "Rendu le 28 janvier 2019."
   ]
  },
  {
   "cell_type": "markdown",
   "metadata": {},
   "source": [
    "## 1. Description du projet"
   ]
  },
  {
   "cell_type": "markdown",
   "metadata": {},
   "source": [
    "A écrire."
   ]
  },
  {
   "cell_type": "markdown",
   "metadata": {},
   "source": [
    "## 2. Environnement utilisé"
   ]
  },
  {
   "cell_type": "markdown",
   "metadata": {},
   "source": [
    "A écrire."
   ]
  },
  {
   "cell_type": "code",
   "execution_count": 1,
   "metadata": {},
   "outputs": [],
   "source": [
    "from agent import Agent\n"
   ]
  },
  {
   "cell_type": "code",
   "execution_count": 2,
   "metadata": {},
   "outputs": [
    {
     "name": "stdout",
     "output_type": "stream",
     "text": [
      "[4, 3, 9, 7, 8, 1, 6, 2, 5]\n",
      "[6, 7, 8, 1, 5, 2, 9, 4, 3]\n"
     ]
    }
   ],
   "source": [
    "nb_objets = 9\n",
    "agent_1 = Agent(nb_objets)\n",
    "agent_2 = Agent(nb_objets)\n",
    "\n",
    "agent_1.show_preferences()\n",
    "agent_2.show_preferences()"
   ]
  }
 ],
 "metadata": {
  "anaconda-cloud": {},
  "kernelspec": {
   "display_name": "Python 3",
   "language": "python",
   "name": "python3"
  },
  "language_info": {
   "codemirror_mode": {
    "name": "ipython",
    "version": 3
   },
   "file_extension": ".py",
   "mimetype": "text/x-python",
   "name": "python",
   "nbconvert_exporter": "python",
   "pygments_lexer": "ipython3",
   "version": "3.5.2"
  }
 },
 "nbformat": 4,
 "nbformat_minor": 1
}
